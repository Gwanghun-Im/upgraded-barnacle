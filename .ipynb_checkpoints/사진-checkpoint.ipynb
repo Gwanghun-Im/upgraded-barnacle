{
 "cells": [
  {
   "cell_type": "code",
   "execution_count": 5,
   "id": "little-young",
   "metadata": {},
   "outputs": [],
   "source": [
    "import pandas as pd\n",
    "data = pd.read_csv('total.csv')\n"
   ]
  },
  {
   "cell_type": "code",
   "execution_count": 6,
   "id": "adaptive-wayne",
   "metadata": {},
   "outputs": [
    {
     "data": {
      "text/html": [
       "<div>\n",
       "<style scoped>\n",
       "    .dataframe tbody tr th:only-of-type {\n",
       "        vertical-align: middle;\n",
       "    }\n",
       "\n",
       "    .dataframe tbody tr th {\n",
       "        vertical-align: top;\n",
       "    }\n",
       "\n",
       "    .dataframe thead th {\n",
       "        text-align: right;\n",
       "    }\n",
       "</style>\n",
       "<table border=\"1\" class=\"dataframe\">\n",
       "  <thead>\n",
       "    <tr style=\"text-align: right;\">\n",
       "      <th></th>\n",
       "      <th>도시</th>\n",
       "      <th>url</th>\n",
       "      <th>이미지 설명</th>\n",
       "    </tr>\n",
       "  </thead>\n",
       "  <tbody>\n",
       "    <tr>\n",
       "      <th>0</th>\n",
       "      <td>청주시</td>\n",
       "      <td>https://i.ibb.co/S5QVq9q/image.jpg</td>\n",
       "      <td>청주 청남대</td>\n",
       "    </tr>\n",
       "    <tr>\n",
       "      <th>1</th>\n",
       "      <td>충주시</td>\n",
       "      <td>https://i.ibb.co/qkjjBr2/image.jpg</td>\n",
       "      <td>충주 홍보맨</td>\n",
       "    </tr>\n",
       "    <tr>\n",
       "      <th>2</th>\n",
       "      <td>제천시</td>\n",
       "      <td>https://i.ibb.co/Wx9J4hs/image.jpg</td>\n",
       "      <td>월악산 국립공원</td>\n",
       "    </tr>\n",
       "    <tr>\n",
       "      <th>3</th>\n",
       "      <td>보은군</td>\n",
       "      <td>https://i.ibb.co/JyWhmbj/image.jpg</td>\n",
       "      <td>보은 법주사</td>\n",
       "    </tr>\n",
       "    <tr>\n",
       "      <th>4</th>\n",
       "      <td>옥천군</td>\n",
       "      <td>https://i.ibb.co/b6K190Y/image.jpg</td>\n",
       "      <td>옥천hub 택배</td>\n",
       "    </tr>\n",
       "    <tr>\n",
       "      <th>...</th>\n",
       "      <td>...</td>\n",
       "      <td>...</td>\n",
       "      <td>...</td>\n",
       "    </tr>\n",
       "    <tr>\n",
       "      <th>155</th>\n",
       "      <td>하남시</td>\n",
       "      <td>https://i.ibb.co/x12BzH4/image.jpg</td>\n",
       "      <td>하남 스타필드</td>\n",
       "    </tr>\n",
       "    <tr>\n",
       "      <th>156</th>\n",
       "      <td>화성시</td>\n",
       "      <td>https://i.ibb.co/gvj4X1L/image.jpg</td>\n",
       "      <td>제부도</td>\n",
       "    </tr>\n",
       "    <tr>\n",
       "      <th>157</th>\n",
       "      <td>가평군</td>\n",
       "      <td>https://i.ibb.co/vJYHgSP/image.jpg</td>\n",
       "      <td>자라섬</td>\n",
       "    </tr>\n",
       "    <tr>\n",
       "      <th>158</th>\n",
       "      <td>양평군</td>\n",
       "      <td>https://i.ibb.co/4RnPsjf/image.jpg</td>\n",
       "      <td>양수리</td>\n",
       "    </tr>\n",
       "    <tr>\n",
       "      <th>159</th>\n",
       "      <td>연천군</td>\n",
       "      <td>https://i.ibb.co/cwyDs1C/image.jpg</td>\n",
       "      <td>한탄강</td>\n",
       "    </tr>\n",
       "  </tbody>\n",
       "</table>\n",
       "<p>160 rows × 3 columns</p>\n",
       "</div>"
      ],
      "text/plain": [
       "      도시                                 url    이미지 설명\n",
       "0    청주시  https://i.ibb.co/S5QVq9q/image.jpg    청주 청남대\n",
       "1    충주시  https://i.ibb.co/qkjjBr2/image.jpg    충주 홍보맨\n",
       "2    제천시  https://i.ibb.co/Wx9J4hs/image.jpg  월악산 국립공원\n",
       "3    보은군  https://i.ibb.co/JyWhmbj/image.jpg    보은 법주사\n",
       "4    옥천군  https://i.ibb.co/b6K190Y/image.jpg  옥천hub 택배\n",
       "..   ...                                 ...       ...\n",
       "155  하남시  https://i.ibb.co/x12BzH4/image.jpg   하남 스타필드\n",
       "156  화성시  https://i.ibb.co/gvj4X1L/image.jpg       제부도\n",
       "157  가평군  https://i.ibb.co/vJYHgSP/image.jpg       자라섬\n",
       "158  양평군  https://i.ibb.co/4RnPsjf/image.jpg       양수리\n",
       "159  연천군  https://i.ibb.co/cwyDs1C/image.jpg       한탄강\n",
       "\n",
       "[160 rows x 3 columns]"
      ]
     },
     "execution_count": 6,
     "metadata": {},
     "output_type": "execute_result"
    }
   ],
   "source": [
    "data"
   ]
  },
  {
   "cell_type": "code",
   "execution_count": 7,
   "id": "hourly-skiing",
   "metadata": {},
   "outputs": [
    {
     "name": "stdout",
     "output_type": "stream",
     "text": [
      "도시\n",
      "url\n",
      "이미지 설명\n"
     ]
    }
   ],
   "source": [
    "for i in data:\n",
    "    print(i)"
   ]
  },
  {
   "cell_type": "code",
   "execution_count": null,
   "id": "pleased-charm",
   "metadata": {},
   "outputs": [],
   "source": []
  }
 ],
 "metadata": {
  "kernelspec": {
   "display_name": "Python 3",
   "language": "python",
   "name": "python3"
  },
  "language_info": {
   "codemirror_mode": {
    "name": "ipython",
    "version": 3
   },
   "file_extension": ".py",
   "mimetype": "text/x-python",
   "name": "python",
   "nbconvert_exporter": "python",
   "pygments_lexer": "ipython3",
   "version": "3.7.3"
  },
  "toc": {
   "base_numbering": 1,
   "nav_menu": {},
   "number_sections": true,
   "sideBar": true,
   "skip_h1_title": false,
   "title_cell": "Table of Contents",
   "title_sidebar": "Contents",
   "toc_cell": false,
   "toc_position": {},
   "toc_section_display": true,
   "toc_window_display": false
  }
 },
 "nbformat": 4,
 "nbformat_minor": 5
}
